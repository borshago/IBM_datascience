{
 "cells": [
  {
   "cell_type": "markdown",
   "id": "5ad895c5-a302-4733-a5a4-216aa886442c",
   "metadata": {},
   "source": [
    "# Data Science Tools and Ecosystem"
   ]
  },
  {
   "cell_type": "markdown",
   "id": "4e30742f-00f3-4ea2-94a7-98125c453d0b",
   "metadata": {},
   "source": [
    "## Author\n",
    "Daniel Borshagovski"
   ]
  },
  {
   "cell_type": "markdown",
   "id": "3de131bf-2a13-41ef-9fdc-3299843223bd",
   "metadata": {},
   "source": [
    "In this notebook, Data Science Tools and Ecosystem are summarized."
   ]
  },
  {
   "cell_type": "markdown",
   "id": "e5e0c24f-213a-4bf2-a848-b2d9578e6fe0",
   "metadata": {},
   "source": [
    "**Objectives:**\n",
    " - List popular data science languages\n",
    " - List commonly used data science libraries\n",
    " - List data science tools\n",
    " - Evaluate arithmetic expressions"
   ]
  },
  {
   "cell_type": "markdown",
   "id": "a35da089-7232-4ba3-81a1-5f22ec906a81",
   "metadata": {},
   "source": [
    "Some of the popular languages that Data Scientists use are:\n",
    "\n",
    "1. Python\n",
    "2. R\n",
    "3. Scala\n",
    "4. Java\n"
   ]
  },
  {
   "cell_type": "markdown",
   "id": "93aea916-952f-4697-8999-e0b0e8d0931d",
   "metadata": {},
   "source": [
    "Some of the commonly used libraries used by Data Scientists include:\n",
    "\n",
    "1. pandas\n",
    "2. numpy\n",
    "3. scikit-learn\n",
    "4. matplotlib\n",
    "5. ggplot2"
   ]
  },
  {
   "cell_type": "markdown",
   "id": "bf3b7d89-abf1-47fd-a685-56c1dd20f368",
   "metadata": {},
   "source": [
    "|Data Science Tools|\n",
    "|------------------|\n",
    "|Spyder|\n",
    "|RStudio|\n",
    "|VS Code|"
   ]
  },
  {
   "cell_type": "markdown",
   "id": "440c5bd4-2a33-406f-b03d-3ca45bd7a6a5",
   "metadata": {},
   "source": [
    "### Below are a few examples of evaluating arithmetic expressions in Python"
   ]
  },
  {
   "cell_type": "code",
   "execution_count": 1,
   "id": "72e8237b-3217-4981-be59-842aa2265414",
   "metadata": {
    "tags": []
   },
   "outputs": [
    {
     "data": {
      "text/plain": [
       "17"
      ]
     },
     "execution_count": 1,
     "metadata": {},
     "output_type": "execute_result"
    }
   ],
   "source": [
    "# This a simple arithmetic expression to mutiply then add integers\n",
    "(3*4)+5"
   ]
  },
  {
   "cell_type": "code",
   "execution_count": 2,
   "id": "29b09ef0-7fb7-4a4a-9ab7-bd9fa7944f25",
   "metadata": {
    "tags": []
   },
   "outputs": [
    {
     "data": {
      "text/plain": [
       "3.3333333333333335"
      ]
     },
     "execution_count": 2,
     "metadata": {},
     "output_type": "execute_result"
    }
   ],
   "source": [
    "#  This will convert 200 minutes to hours by diving by 60\n",
    "200/60"
   ]
  }
 ],
 "metadata": {
  "kernelspec": {
   "display_name": "Python",
   "language": "python",
   "name": "conda-env-python-py"
  },
  "language_info": {
   "codemirror_mode": {
    "name": "ipython",
    "version": 3
   },
   "file_extension": ".py",
   "mimetype": "text/x-python",
   "name": "python",
   "nbconvert_exporter": "python",
   "pygments_lexer": "ipython3",
   "version": "3.7.12"
  }
 },
 "nbformat": 4,
 "nbformat_minor": 5
}
